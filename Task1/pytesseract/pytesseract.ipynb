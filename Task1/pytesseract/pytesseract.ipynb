{
 "cells": [
  {
   "cell_type": "code",
   "execution_count": 1,
   "metadata": {},
   "outputs": [],
   "source": [
    "# !pip install pillow\n",
    "# !pip install pytesseract"
   ]
  },
  {
   "cell_type": "code",
   "execution_count": 2,
   "metadata": {},
   "outputs": [],
   "source": [
    "from PIL import Image\n",
    "import pytesseract\n",
    "import os"
   ]
  },
  {
   "cell_type": "code",
   "execution_count": 3,
   "metadata": {},
   "outputs": [
    {
     "name": "stdout",
     "output_type": "stream",
     "text": [
      "========== 1.jpg  ==========\n",
      "['\\x0c']\n",
      "========== 2.png  ==========\n",
      "['perviso', '', 'ime', 'Creative Su', 'corer', '7/22/1989', 'nexoeennee®', '278469', '', ' ', '\\x0c']\n",
      "========== 946655ec9a6b979caf72a92066a95872.png  ==========\n",
      "['PAKISTAN national identity cara', '', 'ISLAMIC REPUBLIC DF PAKISTAN', 'Name', '', 'Muhammad ~', '', 'Bate of Expiry', '', '46,10,2012 | 46.10.2007', '', ' ', '\\x0c']\n",
      "========== 9e6c9b3c155e80d609fcf50bf3c0df9f.jpg  ==========\n",
      "['  ', '     ', '', 'PAKISTAN National identity cara', '', 'ISLAMIC REPUBLIC OF PAKISTAN', 'Name', '', '16.11.2017', '\\x0c']\n",
      "========== b40d44d513e237b4205aba8839d3d275.png  ==========\n",
      "[' ', '', ' ', '', ' ', '', ' ', '', ' ', '\\x0c']\n",
      "========== b77d2a10221415.560e15b0458b6.jpg  ==========\n",
      "[' ', '\\x0c']\n",
      "========== download.jpg  ==========\n",
      "[' ', '\\x0c']\n",
      "========== EgR0BxXVAAESPSG.jpg  ==========\n",
      "[' ', '', 'Gis}, PAKISTAN Motomt emty coe', '', ' ', '\\x0c']\n",
      "========== EgR6CvyVoAA5HEM.jpg  ==========\n",
      "[' ', '', 'PAKISTAN National Identity Card', '', '(SLAMIC @EPUBLIC OF PAKISTAN', 'Name o', 'Afeera Bibi', 'rotetenoneya ,” Tall', 'Husband Name', 'Muhammad Umar', 'Pats', 'Gender |Country of Stay', 'F Pakistan', '', 'identity: Nuoiber TBate of Birth 7', '31202-3199949- inal 21.12.1997', 'Date of issue Toate of Expiry % Ee', '', '10.12.2018 } 10.12.2028', '', '|', '', 'Holder 5 Signature', '', ' ', '\\x0c']\n",
      "========== hqdefault.jpg  ==========\n",
      "['Fi', 'es', '3', 'x', 'qi', 'a', '', ' ', '\\x0c']\n",
      "========== KP_98535d0d-cimage_story.jpg  ==========\n",
      "['HY', '3', '3', '2', '', ' ', '\\x0c']\n"
     ]
    }
   ],
   "source": [
    "pytesseract.pytesseract.tesseract_cmd = r\"C:\\Program Files\\Tesseract-OCR\\tesseract.exe\" \n",
    "images=os.listdir(r'../NIC_Images')\n",
    "for i in images:\n",
    "    print(f\"========== {i}  ==========\")\n",
    "    text = pytesseract.image_to_string(Image.open(rf'../NIC_Images/{i}'))\n",
    "    print(text.split('\\n'))"
   ]
  },
  {
   "cell_type": "code",
   "execution_count": null,
   "metadata": {},
   "outputs": [],
   "source": []
  },
  {
   "cell_type": "code",
   "execution_count": null,
   "metadata": {},
   "outputs": [],
   "source": []
  }
 ],
 "metadata": {
  "interpreter": {
   "hash": "1b10247b51484cdcfafc20154cad46dfa696458da96520fc619d9819c32caf19"
  },
  "kernelspec": {
   "display_name": "Python 3.7.0 64-bit ('venv': venv)",
   "language": "python",
   "name": "python3"
  },
  "language_info": {
   "codemirror_mode": {
    "name": "ipython",
    "version": 3
   },
   "file_extension": ".py",
   "mimetype": "text/x-python",
   "name": "python",
   "nbconvert_exporter": "python",
   "pygments_lexer": "ipython3",
   "version": "3.7.0"
  },
  "orig_nbformat": 4
 },
 "nbformat": 4,
 "nbformat_minor": 2
}
