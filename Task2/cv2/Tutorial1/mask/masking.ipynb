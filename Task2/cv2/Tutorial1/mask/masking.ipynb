{
 "cells": [
  {
   "cell_type": "code",
   "execution_count": 12,
   "metadata": {},
   "outputs": [],
   "source": [
    "import cv2\n",
    "import numpy as np\n",
    "import matplotlib.pyplot as plt"
   ]
  },
  {
   "cell_type": "code",
   "execution_count": 13,
   "metadata": {},
   "outputs": [],
   "source": [
    "def display(*img):\n",
    "    for i,j in enumerate(img):\n",
    "        cv2.imshow(f'{i}',j)\n",
    "    cv2.waitKey(0)\n",
    "    cv2.destroyAllWindows()"
   ]
  },
  {
   "cell_type": "code",
   "execution_count": 14,
   "metadata": {},
   "outputs": [],
   "source": [
    "img=cv2.imread('../basics/images/bird.jpg')\n",
    "img=img.copy()"
   ]
  },
  {
   "cell_type": "code",
   "execution_count": 15,
   "metadata": {},
   "outputs": [],
   "source": [
    "display(img)"
   ]
  },
  {
   "cell_type": "code",
   "execution_count": 16,
   "metadata": {},
   "outputs": [],
   "source": [
    "mask=np.zeros(img.shape[:2],dtype=np.uint8)\n",
    "display(mask)"
   ]
  },
  {
   "cell_type": "code",
   "execution_count": 19,
   "metadata": {},
   "outputs": [],
   "source": [
    "cx,cy=mask.shape[1]//2,mask.shape[0]//2\n",
    "cv2.rectangle(mask,(cx-200,cy-300),(cx+200,cy+200),255,-1)\n",
    "display(mask)"
   ]
  },
  {
   "cell_type": "code",
   "execution_count": 26,
   "metadata": {},
   "outputs": [],
   "source": [
    "img_mask=cv2.bitwise_and(img,img,mask=mask)\n",
    "display(img_mask)"
   ]
  },
  {
   "cell_type": "code",
   "execution_count": 27,
   "metadata": {},
   "outputs": [],
   "source": [
    "img_mask=cv2.bitwise_and(img,img,mask=~mask)\n",
    "display(img_mask)"
   ]
  },
  {
   "cell_type": "code",
   "execution_count": 37,
   "metadata": {},
   "outputs": [],
   "source": [
    "mask=np.zeros(img.shape[:2],dtype=np.uint8)\n",
    "cx,cy=mask.shape[1]//2,mask.shape[0]//2\n",
    "cv2.circle(mask,(cx,cy),200,255,-1)\n",
    "img_mask=cv2.bitwise_and(img,img,mask=mask)\n",
    "display(img_mask)"
   ]
  }
 ],
 "metadata": {
  "interpreter": {
   "hash": "ecded438c6d45e34257984fa5c73b9d6614621bff075971972c087dd4400b669"
  },
  "kernelspec": {
   "display_name": "Python 3.7.0 64-bit",
   "language": "python",
   "name": "python3"
  },
  "language_info": {
   "codemirror_mode": {
    "name": "ipython",
    "version": 3
   },
   "file_extension": ".py",
   "mimetype": "text/x-python",
   "name": "python",
   "nbconvert_exporter": "python",
   "pygments_lexer": "ipython3",
   "version": "3.7.0"
  },
  "orig_nbformat": 4
 },
 "nbformat": 4,
 "nbformat_minor": 2
}
