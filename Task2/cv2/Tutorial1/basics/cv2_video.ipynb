{
 "cells": [
  {
   "cell_type": "code",
   "execution_count": 1,
   "metadata": {},
   "outputs": [],
   "source": [
    "import numpy as np\n",
    "import cv2\n",
    "import time"
   ]
  },
  {
   "cell_type": "code",
   "execution_count": 4,
   "metadata": {},
   "outputs": [],
   "source": [
    "cap=cv2.VideoCapture('./clip.mp4')\n",
    "fps=0\n",
    "while True:\n",
    "    start_time=time.time()\n",
    "    ret,frame=cap.read()\n",
    "    if ret==False: break\n",
    "    cv2.putText(frame,'FPS: {:.0f}'.format(fps),(30,50),cv2.FONT_HERSHEY_SIMPLEX,1.5,\n",
    "    (255,255,255),1)\n",
    "    cv2.imshow('video',frame)\n",
    "    if cv2.waitKey(41)==ord('q'):#1000/24=41  for nearly 24fps\n",
    "        break\n",
    "    time_taken=time.time()-start_time\n",
    "    fps=1/time_taken\n",
    "cap.release()\n",
    "cv2.destroyAllWindows()"
   ]
  },
  {
   "cell_type": "markdown",
   "metadata": {},
   "source": [
    "Access web cam"
   ]
  },
  {
   "cell_type": "code",
   "execution_count": 5,
   "metadata": {},
   "outputs": [],
   "source": [
    "cap=cv2.VideoCapture(0)#0,1,..\n",
    "fps=0\n",
    "while True:\n",
    "    start_time=time.time()\n",
    "    ret,frame=cap.read()\n",
    "    if ret==False: break\n",
    "    cv2.putText(frame,'FPS: {:.0f}'.format(fps),(30,50),cv2.FONT_HERSHEY_SIMPLEX,1.5,\n",
    "    (255,255,255),1)\n",
    "    cv2.imshow('video',frame)\n",
    "    if cv2.waitKey(41)==ord('q'):#1000/24=41  for nearly 24fps\n",
    "        break\n",
    "    time_taken=time.time()-start_time\n",
    "    fps=1/time_taken\n",
    "cap.release()\n",
    "cv2.destroyAllWindows()"
   ]
  },
  {
   "cell_type": "code",
   "execution_count": null,
   "metadata": {},
   "outputs": [],
   "source": []
  }
 ],
 "metadata": {
  "interpreter": {
   "hash": "ecded438c6d45e34257984fa5c73b9d6614621bff075971972c087dd4400b669"
  },
  "kernelspec": {
   "display_name": "Python 3.7.0 64-bit",
   "language": "python",
   "name": "python3"
  },
  "language_info": {
   "codemirror_mode": {
    "name": "ipython",
    "version": 3
   },
   "file_extension": ".py",
   "mimetype": "text/x-python",
   "name": "python",
   "nbconvert_exporter": "python",
   "pygments_lexer": "ipython3",
   "version": "3.7.0"
  },
  "orig_nbformat": 4
 },
 "nbformat": 4,
 "nbformat_minor": 2
}
