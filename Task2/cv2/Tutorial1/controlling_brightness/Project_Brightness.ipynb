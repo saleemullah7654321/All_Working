{
 "cells": [
  {
   "cell_type": "markdown",
   "metadata": {},
   "source": [
    "# Control Brightness of Image"
   ]
  },
  {
   "cell_type": "code",
   "execution_count": 2,
   "metadata": {},
   "outputs": [],
   "source": [
    "import numpy as np\n",
    "import cv2"
   ]
  },
  {
   "cell_type": "code",
   "execution_count": 5,
   "metadata": {},
   "outputs": [],
   "source": [
    "img = cv2.imread('../basics/images/bird.jpg')\n",
    "cv2.imshow('img',img)\n",
    "cv2.waitKey(0)\n",
    "cv2.destroyAllWindows()"
   ]
  },
  {
   "cell_type": "code",
   "execution_count": 7,
   "metadata": {},
   "outputs": [],
   "source": [
    "def nothing(x):\n",
    "    pass\n",
    "\n",
    "cv2.namedWindow('Brightness Control')\n",
    "bright = cv2.createTrackbar('Brightness','Brightness Control',75,255,nothing)\n",
    "value = np.ones_like(img,dtype='uint8')\n",
    "\n",
    "\n",
    "while True:\n",
    "    bright = cv2.getTrackbarPos('Brightness','Brightness Control')\n",
    "    bar = bright - 127\n",
    "    \n",
    "    if bar >=0:\n",
    "        value = np.ones_like(img,dtype='uint8')*bar\n",
    "        img_ctrl = cv2.add(img,value)\n",
    "        \n",
    "    else:\n",
    "        bright = 127 - bright\n",
    "        value = np.ones_like(img,dtype='uint8')*bright\n",
    "        img_ctrl = cv2.subtract(img,value)\n",
    "\n",
    "        \n",
    "    cv2.imshow('Brightness Control',img_ctrl)\n",
    "    \n",
    "    if cv2.waitKey(1) == 27: # esc button\n",
    "        break\n",
    "        \n",
    "        \n",
    "cv2.destroyAllWindows()"
   ]
  },
  {
   "cell_type": "markdown",
   "metadata": {},
   "source": [
    "# Real Time Brightness Control"
   ]
  },
  {
   "cell_type": "code",
   "execution_count": 8,
   "metadata": {},
   "outputs": [],
   "source": [
    "def brightness_ctrl(image,bright):\n",
    "    bar = bright - 127\n",
    "    \n",
    "    if bar >=0:\n",
    "        value = np.ones_like(image,dtype='uint8')*bar\n",
    "        img_ctrl = cv2.add(image,value)\n",
    "        \n",
    "    else:\n",
    "        bright = 127 - bright\n",
    "        value = np.ones_like(image,dtype='uint8')*bright\n",
    "        img_ctrl = cv2.subtract(image,value)\n",
    "        \n",
    "    return img_ctrl"
   ]
  },
  {
   "cell_type": "code",
   "execution_count": 9,
   "metadata": {},
   "outputs": [],
   "source": [
    "cap = cv2.VideoCapture('./images/clip.mp4')\n",
    "cv2.namedWindow('Brightness Control')\n",
    "bright = cv2.createTrackbar('Brightness','Brightness Control',75,255,nothing)\n",
    "value = np.ones_like(img,dtype='uint8')\n",
    "\n",
    "while True:\n",
    "    ret, frame = cap.read()\n",
    "    if ret == False:\n",
    "        break\n",
    "        \n",
    "    bright = cv2.getTrackbarPos('Brightness','Brightness Control')\n",
    "    img_ctrl = brightness_ctrl(frame,bright)\n",
    "    \n",
    "    cv2.imshow('Brightness Control',img_ctrl)\n",
    "    if cv2.waitKey(20) == 27:\n",
    "        break\n",
    "        \n",
    "cv2.destroyAllWindows()\n",
    "cap.release()"
   ]
  },
  {
   "cell_type": "code",
   "execution_count": null,
   "metadata": {},
   "outputs": [],
   "source": []
  }
 ],
 "metadata": {
  "kernelspec": {
   "display_name": "Python 3",
   "language": "python",
   "name": "python3"
  },
  "language_info": {
   "codemirror_mode": {
    "name": "ipython",
    "version": 3
   },
   "file_extension": ".py",
   "mimetype": "text/x-python",
   "name": "python",
   "nbconvert_exporter": "python",
   "pygments_lexer": "ipython3",
   "version": "3.7.0"
  }
 },
 "nbformat": 4,
 "nbformat_minor": 4
}
