{
 "cells": [
  {
   "cell_type": "code",
   "execution_count": 1,
   "metadata": {},
   "outputs": [],
   "source": [
    "import cv2\n",
    "import numpy as np"
   ]
  },
  {
   "cell_type": "code",
   "execution_count": 2,
   "metadata": {},
   "outputs": [],
   "source": [
    "def nothing(x):\n",
    "    pass"
   ]
  },
  {
   "cell_type": "code",
   "execution_count": 3,
   "metadata": {},
   "outputs": [],
   "source": [
    "cv2.namedWindow('Tracking')\n",
    "cv2.createTrackbar('LH','Tracking',0,255,nothing)\n",
    "cv2.createTrackbar('LS','Tracking',0,255,nothing)\n",
    "cv2.createTrackbar('LV','Tracking',0,255,nothing)\n",
    "cv2.createTrackbar('UH','Tracking',255,255,nothing)\n",
    "cv2.createTrackbar('US','Tracking',255,255,nothing)\n",
    "cv2.createTrackbar('UV','Tracking',255,255,nothing)\n",
    "while True:\n",
    "    frame=cv2.imread('../../Tutorial1/basics/images/bird.jpg')\n",
    "    frame=frame.copy()\n",
    "    hsv=cv2.cvtColor(frame,cv2.COLOR_BGR2HSV)\n",
    "\n",
    "    l_h=cv2.getTrackbarPos('LH','Tracking')\n",
    "    l_s=cv2.getTrackbarPos('LS','Tracking')\n",
    "    l_v=cv2.getTrackbarPos('LV','Tracking')\n",
    "\n",
    "    u_h=cv2.getTrackbarPos('UH','Tracking')\n",
    "    u_s=cv2.getTrackbarPos('US','Tracking')\n",
    "    u_v=cv2.getTrackbarPos('UV','Tracking')\n",
    "\n",
    "    l_b=np.array([l_h,l_s,l_v])\n",
    "    u_b=np.array([u_h,u_s,u_v])\n",
    "    mask=cv2.inRange(hsv,l_b,u_b)\n",
    "    res=cv2.bitwise_and(frame,frame,mask=mask)\n",
    "    cv2.imshow('frame',frame)\n",
    "    cv2.imshow('mask',mask)\n",
    "    cv2.imshow('res',res)\n",
    "    if cv2.waitKey(1)==27:\n",
    "        break\n",
    "cv2.destroyAllWindows()"
   ]
  },
  {
   "cell_type": "code",
   "execution_count": null,
   "metadata": {},
   "outputs": [],
   "source": []
  }
 ],
 "metadata": {
  "interpreter": {
   "hash": "ecded438c6d45e34257984fa5c73b9d6614621bff075971972c087dd4400b669"
  },
  "kernelspec": {
   "display_name": "Python 3.7.0 64-bit",
   "language": "python",
   "name": "python3"
  },
  "language_info": {
   "codemirror_mode": {
    "name": "ipython",
    "version": 3
   },
   "file_extension": ".py",
   "mimetype": "text/x-python",
   "name": "python",
   "nbconvert_exporter": "python",
   "pygments_lexer": "ipython3",
   "version": "3.7.0"
  },
  "orig_nbformat": 4
 },
 "nbformat": 4,
 "nbformat_minor": 2
}
