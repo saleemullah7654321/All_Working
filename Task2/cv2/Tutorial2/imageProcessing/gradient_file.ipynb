{
 "cells": [
  {
   "cell_type": "code",
   "execution_count": 1,
   "metadata": {},
   "outputs": [],
   "source": [
    "import cv2\n",
    "import numpy as np\n",
    "import matplotlib.pyplot as plt"
   ]
  },
  {
   "cell_type": "code",
   "execution_count": 2,
   "metadata": {},
   "outputs": [],
   "source": [
    "img=cv2.imread('./images/gradient.png')\n",
    "img=img.copy()"
   ]
  },
  {
   "cell_type": "code",
   "execution_count": 3,
   "metadata": {},
   "outputs": [],
   "source": [
    "def display(*img):\n",
    "    for i,j in enumerate(img):\n",
    "        cv2.imshow(f'{i}',j)\n",
    "    cv2.waitKey(0)\n",
    "    cv2.destroyAllWindows()"
   ]
  },
  {
   "cell_type": "code",
   "execution_count": 4,
   "metadata": {},
   "outputs": [],
   "source": [
    "_,th1=cv2.threshold(img,50,255,cv2.THRESH_BINARY)\n",
    "_,th2=cv2.threshold(img,200,255,cv2.THRESH_BINARY_INV)\n",
    "_,th3=cv2.threshold(img,127,255,cv2.THRESH_TRUNC)\n",
    "_,th4=cv2.threshold(img,127,255,cv2.THRESH_TOZERO)\n",
    "_,th5=cv2.threshold(img,127,255,cv2.THRESH_TOZERO_INV)\n",
    "display(img,th1,th2,th3,th4,th5)"
   ]
  },
  {
   "cell_type": "code",
   "execution_count": 5,
   "metadata": {},
   "outputs": [],
   "source": [
    "img=cv2.imread('./images/adaptive_gradient.PNG',0)\n",
    "img=img.copy()\n",
    "_,th1=cv2.threshold(img,50,255,cv2.THRESH_BINARY)\n",
    "th6=cv2.adaptiveThreshold(img,255,cv2.ADAPTIVE_THRESH_MEAN_C,cv2.THRESH_BINARY,11,5)\n",
    "th7=cv2.adaptiveThreshold(img,255,cv2.ADAPTIVE_THRESH_GAUSSIAN_C,cv2.THRESH_BINARY,11,5)\n",
    "display(th6,th7,img)"
   ]
  },
  {
   "cell_type": "code",
   "execution_count": null,
   "metadata": {},
   "outputs": [],
   "source": []
  }
 ],
 "metadata": {
  "interpreter": {
   "hash": "ecded438c6d45e34257984fa5c73b9d6614621bff075971972c087dd4400b669"
  },
  "kernelspec": {
   "display_name": "Python 3.7.0 64-bit",
   "language": "python",
   "name": "python3"
  },
  "language_info": {
   "codemirror_mode": {
    "name": "ipython",
    "version": 3
   },
   "file_extension": ".py",
   "mimetype": "text/x-python",
   "name": "python",
   "nbconvert_exporter": "python",
   "pygments_lexer": "ipython3",
   "version": "3.7.0"
  },
  "orig_nbformat": 4
 },
 "nbformat": 4,
 "nbformat_minor": 2
}
