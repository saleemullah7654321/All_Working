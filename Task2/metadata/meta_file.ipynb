{
 "cells": [
  {
   "cell_type": "code",
   "execution_count": 135,
   "metadata": {},
   "outputs": [],
   "source": [
    "import subprocess"
   ]
  },
  {
   "cell_type": "code",
   "execution_count": 141,
   "metadata": {},
   "outputs": [],
   "source": [
    "image='../Landscape_3.jpeg'\n",
    "exe='hachoir-metadata'"
   ]
  },
  {
   "cell_type": "code",
   "execution_count": 142,
   "metadata": {},
   "outputs": [
    {
     "name": "stdout",
     "output_type": "stream",
     "text": [
      "Metadata:\n",
      "- Image width: 1800 pixels\n",
      "- Image height: 1200 pixels\n",
      "- Image orientation: Rotated 180\n",
      "- Bits/pixel: 24\n",
      "- Pixel format: YCbCr\n",
      "- Image DPI width: 72 DPI\n",
      "- Image DPI height: 72 DPI\n",
      "- Compression: JPEG (Baseline)\n",
      "- Comment: JPEG quality: 73%\n",
      "- Format version: JFIF 1.01\n",
      "- MIME type: image/jpeg\n",
      "- Endianness: Big endian\n"
     ]
    }
   ],
   "source": [
    "process=subprocess.Popen([exe,image],stdout=subprocess.PIPE,stderr=subprocess.STDOUT,universal_newlines=True)\n",
    "data=process.stdout\n",
    "for i in data:\n",
    "    print(i.strip())"
   ]
  },
  {
   "cell_type": "code",
   "execution_count": 139,
   "metadata": {},
   "outputs": [
    {
     "name": "stdout",
     "output_type": "stream",
     "text": [
      "{'ResolutionUnit': 2, 'Orientation': 3, 'YCbCrPositioning': 1, 'XResolution': 72.0, 'YResolution': 72.0}\n"
     ]
    }
   ],
   "source": [
    "from PIL import Image\n",
    "from PIL.ExifTags import TAGS\n",
    "\n",
    "def get_exif():\n",
    "    i=Image.open('../Landscape_3.jpeg')\n",
    "    info = i.getexif()\n",
    "    return {TAGS.get(tag): value for tag, value in info.items()}\n",
    "\n",
    "print(get_exif())"
   ]
  }
 ],
 "metadata": {
  "interpreter": {
   "hash": "af90afa3e861090a41bad24ba8d51c306ff4be41483c499defb917abd7e61a90"
  },
  "kernelspec": {
   "display_name": "Python 3.7.0 64-bit ('venv': venv)",
   "language": "python",
   "name": "python3"
  },
  "language_info": {
   "codemirror_mode": {
    "name": "ipython",
    "version": 3
   },
   "file_extension": ".py",
   "mimetype": "text/x-python",
   "name": "python",
   "nbconvert_exporter": "python",
   "pygments_lexer": "ipython3",
   "version": "3.7.0"
  },
  "orig_nbformat": 4
 },
 "nbformat": 4,
 "nbformat_minor": 2
}
