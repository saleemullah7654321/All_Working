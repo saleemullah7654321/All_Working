{
 "cells": [
  {
   "cell_type": "code",
   "execution_count": 24,
   "metadata": {},
   "outputs": [],
   "source": [
    "import json\n",
    "import cv2\n",
    "import os\n",
    "import numpy as np"
   ]
  },
  {
   "cell_type": "code",
   "execution_count": 25,
   "metadata": {},
   "outputs": [],
   "source": [
    "def get_images():\n",
    "    images=os.listdir('./main_images')\n",
    "    temp={}\n",
    "    for i in images:\n",
    "        temp[i]=cv2.imread(f'./main_images/{i}').copy()\n",
    "    return temp"
   ]
  },
  {
   "cell_type": "code",
   "execution_count": 26,
   "metadata": {},
   "outputs": [
    {
     "data": {
      "text/plain": [
       "dict"
      ]
     },
     "execution_count": 26,
     "metadata": {},
     "output_type": "execute_result"
    }
   ],
   "source": [
    "data=open('./via_project_24Nov2021_21h55m_json.json').read()\n",
    "data=json.loads(data)\n",
    "type(data)"
   ]
  },
  {
   "cell_type": "code",
   "execution_count": 27,
   "metadata": {},
   "outputs": [],
   "source": [
    "filter=['filename','x','y','width','height','0','1']"
   ]
  },
  {
   "cell_type": "code",
   "execution_count": 28,
   "metadata": {},
   "outputs": [],
   "source": [
    "def get_depth(d):\n",
    "\n",
    "    o = []\n",
    "    def v_check(key,val):\n",
    "\n",
    "        if key in filter or val in filter :\n",
    "            o.append(str(f'{key}:{val}'))\n",
    "\n",
    "    def check(d):\n",
    "        if isinstance(d, dict):\n",
    "\n",
    "            for k,v in d.items():\n",
    "\n",
    "                if isinstance(v, (dict, list)):\n",
    "                    check(v)\n",
    "\n",
    "                else:\n",
    "                    if v:\n",
    "                       v_check(k,v)\n",
    "                   \n",
    "\n",
    "        elif isinstance(d, (list)):\n",
    "            for v in d:\n",
    "\n",
    "                if isinstance(v, (dict, list)):\n",
    "\n",
    "                    check(v)\n",
    "\n",
    "                else:\n",
    "                    pass\n",
    "                    # v_check(v)\n",
    "\n",
    "    check(d)\n",
    "    return o\n",
    "\n",
    "data=get_depth(data)\n",
    "# data"
   ]
  },
  {
   "cell_type": "markdown",
   "metadata": {},
   "source": [
    "# YOLO PARSER"
   ]
  },
  {
   "cell_type": "code",
   "execution_count": 29,
   "metadata": {},
   "outputs": [],
   "source": [
    "def normalize_for_yolo(xmin,ymin,w,h,w_img,h_img):\n",
    "    xcenter = (xmin + w/2) / w_img\n",
    "    ycenter = (ymin + h/2) / h_img\n",
    "    w = w / w_img\n",
    "    h = h / h_img\n",
    "    return xcenter,ycenter,w,h\n",
    "if not os.path.exists('./yolo_annotations'):\n",
    "    os.mkdir('./yolo_annotations')\n",
    "images=get_images()\n",
    "image=''\n",
    "file=''\n",
    "points=[]\n",
    "for i in data:\n",
    "    # print(i)\n",
    "    if i.split(':')[0] == 'filename':\n",
    "        image=images[i.split(':')[1]]\n",
    "        file=open(f'yolo_annotations/{i.split(\":\")[1].split(\".\")[0]}.txt','w')\n",
    "    else:\n",
    "        if i.split(':')[0]=='0' or i.split(':')[0]=='1':\n",
    "            file.write(f\"{i.split(':')[0]} \")\n",
    "            x,y,w,h=[int(x) for x in points]\n",
    "            # image=cv2.rectangle(image,(x,y),(x+w,y+h),[0,255,0],2)\n",
    "            # image=cv2.putText(image,i.split(':')[0],(x,y),cv2.FONT_HERSHEY_SIMPLEX,2,[0,255,0],2)\n",
    "            # cv2.imshow('',image)\n",
    "            # cv2.waitKey(0)\n",
    "            # cv2.destroyAllWindows()\n",
    "            x,y,w,h=normalize_for_yolo(x,y,w,h,image.shape[1],image.shape[0])\n",
    "            file.write(f\"{x} {y} {w} {h}\\n\")\n",
    "            points=[]\n",
    "        else:\n",
    "            points.append(i.split(\":\")[1])\n",
    "file.close()\n",
    "    "
   ]
  },
  {
   "cell_type": "markdown",
   "metadata": {},
   "source": [
    "# Unet"
   ]
  },
  {
   "cell_type": "code",
   "execution_count": 30,
   "metadata": {},
   "outputs": [],
   "source": [
    "def create_mask_image(img):\n",
    "    # cv2.rectangle(img,(0,0),(img.shape[1],img.shape[0]),255,-1)\n",
    "    im=img.copy()\n",
    "    im[:,:]=0\n",
    "    return im\n",
    "    "
   ]
  },
  {
   "cell_type": "code",
   "execution_count": 31,
   "metadata": {},
   "outputs": [],
   "source": [
    "if not os.path.exists('./unet_annotations'):\n",
    "    os.mkdir('./unet_annotations')\n",
    "    if not os.path.exists('./unet_annotations/labels'):\n",
    "        os.mkdir('./unet_annotations/labels')\n",
    "    if not os.path.exists('./unet_annotations/train'):\n",
    "        os.mkdir('./unet_annotations/train')\n",
    "\n",
    "def mask_for_unet(filename,image,mask_image,points,color):\n",
    "    x,y,w,h=[int(x) for x in points]\n",
    "    cv2.rectangle(mask_image,(x,y),(x+w,y+h),color,-1)\n",
    "    mask_image=cv2.resize(mask_image,(512,512),cv2.INTER_AREA)\n",
    "    image=cv2.resize(image,(512,512),cv2.INTER_AREA)\n",
    "    cv2.imwrite(f'./unet_annotations/labels/{filename}.jpg',mask_image)\n",
    "    cv2.imwrite(f'./unet_annotations/train/{filename}.jpg',image)\n",
    "    cv2.imshow('',mask_image)\n",
    "    cv2.waitKey(0)\n",
    "    cv2.destroyAllWindows()\n"
   ]
  },
  {
   "cell_type": "code",
   "execution_count": 32,
   "metadata": {},
   "outputs": [],
   "source": [
    "images=get_images()\n",
    "image=''\n",
    "mask_image=''\n",
    "points=[]\n",
    "for i in data:\n",
    "    # print(i)\n",
    "    if i.split(':')[0] == 'filename':\n",
    "        image=images[i.split(':')[1]]\n",
    "        filename=i.split(':')[1].split('.')[0]\n",
    "        mask_image=create_mask_image(image)\n",
    "    else:\n",
    "        if i.split(\":\")[0] in ['x','y','width','height']:\n",
    "            points.append(i.split(\":\")[1])\n",
    "        else:\n",
    "            c=255-int(i.split(\":\")[0])\n",
    "            mask_for_unet(filename,image,mask_image,points,[c,c,c])\n",
    "            points=[]"
   ]
  },
  {
   "cell_type": "code",
   "execution_count": null,
   "metadata": {},
   "outputs": [],
   "source": []
  }
 ],
 "metadata": {
  "interpreter": {
   "hash": "ecded438c6d45e34257984fa5c73b9d6614621bff075971972c087dd4400b669"
  },
  "kernelspec": {
   "display_name": "Python 3.7.0 64-bit",
   "language": "python",
   "name": "python3"
  },
  "language_info": {
   "codemirror_mode": {
    "name": "ipython",
    "version": 3
   },
   "file_extension": ".py",
   "mimetype": "text/x-python",
   "name": "python",
   "nbconvert_exporter": "python",
   "pygments_lexer": "ipython3",
   "version": "3.7.0"
  },
  "orig_nbformat": 4
 },
 "nbformat": 4,
 "nbformat_minor": 2
}
