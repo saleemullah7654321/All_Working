{
 "cells": [
  {
   "cell_type": "code",
   "execution_count": 21,
   "metadata": {},
   "outputs": [],
   "source": [
    "import json\n",
    "import cv2\n",
    "import os\n",
    "import numpy as np"
   ]
  },
  {
   "cell_type": "code",
   "execution_count": 22,
   "metadata": {},
   "outputs": [],
   "source": [
    "def display(*img):\n",
    "    for i,im in enumerate(img):\n",
    "        cv2.imshow(str(i),im)\n",
    "    cv2.waitKey(0)\n",
    "    cv2.destroyAllWindows()"
   ]
  },
  {
   "cell_type": "code",
   "execution_count": 23,
   "metadata": {},
   "outputs": [],
   "source": [
    "def get_images():\n",
    "    images=os.listdir('./main_data/main_images')\n",
    "    temp={}\n",
    "    for i in images:\n",
    "        temp[i]=cv2.imread(f'./main_data/main_images/{i}').copy()\n",
    "    return temp"
   ]
  },
  {
   "cell_type": "code",
   "execution_count": 24,
   "metadata": {},
   "outputs": [
    {
     "data": {
      "text/plain": [
       "dict"
      ]
     },
     "execution_count": 24,
     "metadata": {},
     "output_type": "execute_result"
    }
   ],
   "source": [
    "data=open('./main_data/main_json.json').read()\n",
    "data=json.loads(data)\n",
    "type(data)"
   ]
  },
  {
   "cell_type": "code",
   "execution_count": 25,
   "metadata": {},
   "outputs": [],
   "source": [
    "filter=['filename','x','y','width','height','0','1']\n",
    "def get_depth(d):\n",
    "\n",
    "    o = []\n",
    "    def v_check(key,val):\n",
    "\n",
    "        if key in filter or val in filter :\n",
    "            o.append(str(f'{key}:{val}'))\n",
    "\n",
    "    def check(d):\n",
    "        if isinstance(d, dict):\n",
    "\n",
    "            for k,v in d.items():\n",
    "\n",
    "                if isinstance(v, (dict, list)):\n",
    "                    check(v)\n",
    "\n",
    "                else:\n",
    "                    if v:\n",
    "                       v_check(k,v)\n",
    "                   \n",
    "\n",
    "        elif isinstance(d, (list)):\n",
    "            for v in d:\n",
    "\n",
    "                if isinstance(v, (dict, list)):\n",
    "\n",
    "                    check(v)\n",
    "\n",
    "                else:\n",
    "                    pass\n",
    "                    # v_check(v)\n",
    "\n",
    "    check(d)\n",
    "    return o\n",
    "\n",
    "data=get_depth(data)\n",
    "# data"
   ]
  },
  {
   "cell_type": "code",
   "execution_count": 26,
   "metadata": {},
   "outputs": [],
   "source": [
    "def rotation(img,angle=0,scale=1):\n",
    "    center=img.shape[1]//2,img.shape[0]//2\n",
    "    M=cv2.getRotationMatrix2D(center,angle,scale)\n",
    "    rotated_img=cv2.warpAffine(img,M,(img.shape[1],img.shape[0]))\n",
    "    return rotated_img"
   ]
  },
  {
   "cell_type": "code",
   "execution_count": 57,
   "metadata": {},
   "outputs": [],
   "source": [
    "save_dir='aug_images'\n",
    "if not os.path.exists(save_dir):\n",
    "    os.mkdir(save_dir)\n",
    "def rotate(filename,image,points):\n",
    "    x,y,w,h=[int(x) for x in points]\n",
    "    cv2.rectangle(image,(x,y),(x+w,y+h),255,3)\n",
    "    display(image)\n",
    "    return image\n",
    "    # cv2.imwrite(f'{save_dir}/{filename}.jpg',image)\n"
   ]
  },
  {
   "cell_type": "code",
   "execution_count": 58,
   "metadata": {},
   "outputs": [],
   "source": [
    "images=get_images()\n",
    "image=''\n",
    "mask_image=''\n",
    "points=[]\n",
    "for i in data:\n",
    "    # print(i)\n",
    "    if i.split(':')[0] == 'filename':\n",
    "        image=images[i.split(':')[1]]\n",
    "        filename=i.split(':')[1].split('.')[0]\n",
    "        image=rotation(image,45)\n",
    "    else:\n",
    "        if i.split(\":\")[0] in ['x','y','width','height']:\n",
    "            points.append(i.split(\":\")[1])\n",
    "        else:\n",
    "            image=rotate(filename,image,points)\n",
    "            points=[]"
   ]
  },
  {
   "cell_type": "code",
   "execution_count": null,
   "metadata": {},
   "outputs": [],
   "source": []
  }
 ],
 "metadata": {
  "interpreter": {
   "hash": "ecded438c6d45e34257984fa5c73b9d6614621bff075971972c087dd4400b669"
  },
  "kernelspec": {
   "display_name": "Python 3.7.0 64-bit",
   "language": "python",
   "name": "python3"
  },
  "language_info": {
   "codemirror_mode": {
    "name": "ipython",
    "version": 3
   },
   "file_extension": ".py",
   "mimetype": "text/x-python",
   "name": "python",
   "nbconvert_exporter": "python",
   "pygments_lexer": "ipython3",
   "version": "3.7.0"
  },
  "orig_nbformat": 4
 },
 "nbformat": 4,
 "nbformat_minor": 2
}
